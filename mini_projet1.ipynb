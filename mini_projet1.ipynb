{
  "nbformat": 4,
  "nbformat_minor": 0,
  "metadata": {
    "colab": {
      "name": "mini-projet1.ipynb",
      "provenance": [],
      "collapsed_sections": [],
      "toc_visible": true,
      "include_colab_link": true
    },
    "kernelspec": {
      "name": "python3",
      "display_name": "Python 3"
    }
  },
  "cells": [
    {
      "cell_type": "markdown",
      "metadata": {
        "id": "view-in-github",
        "colab_type": "text"
      },
      "source": [
        "<a href=\"https://colab.research.google.com/github/igorpontes/GLO-7050/blob/develop/mini_projet1.ipynb\" target=\"_parent\"><img src=\"https://colab.research.google.com/assets/colab-badge.svg\" alt=\"Open In Colab\"/></a>"
      ]
    },
    {
      "cell_type": "markdown",
      "metadata": {
        "id": "BKGafEK2GBSy",
        "colab_type": "text"
      },
      "source": [
        "# **Mini-projet 1**"
      ]
    },
    {
      "cell_type": "markdown",
      "metadata": {
        "id": "7x4BrT8PHT_n",
        "colab_type": "text"
      },
      "source": [
        "Imports"
      ]
    },
    {
      "cell_type": "code",
      "metadata": {
        "id": "Qsi-iCs0F5Xx",
        "colab_type": "code",
        "colab": {}
      },
      "source": [
        "import numpy as np\n",
        "import matplotlib.pyplot as plt"
      ],
      "execution_count": 23,
      "outputs": []
    },
    {
      "cell_type": "markdown",
      "metadata": {
        "id": "Wk8G-c7rINR_",
        "colab_type": "text"
      },
      "source": [
        "**1 Sélection de modèle**"
      ]
    },
    {
      "cell_type": "code",
      "metadata": {
        "id": "Fq1H4Y-0LmVf",
        "colab_type": "code",
        "colab": {}
      },
      "source": [
        "#import CSV file and chose only the two first columns\n",
        "ds1_train = np.loadtxt(\"Dataset_1_train.csv\", delimiter=\",\", usecols=range(2))\n",
        "ds1_test = np.loadtxt(\"Dataset_1_test.csv\", delimiter=\",\", usecols=range(2))\n",
        "ds1_valid = np.loadtxt(\"Dataset_1_valid.csv\", delimiter=\",\", usecols=range(2))"
      ],
      "execution_count": 24,
      "outputs": []
    },
    {
      "cell_type": "markdown",
      "metadata": {
        "id": "okx3jlRWE-GW",
        "colab_type": "text"
      },
      "source": [
        "Separate points"
      ]
    },
    {
      "cell_type": "code",
      "metadata": {
        "id": "Kn-E-wt9Dzs_",
        "colab_type": "code",
        "colab": {}
      },
      "source": [
        "ds1_train_X = ds1_train[:,0]\n",
        "ds1_train_Y = ds1_train[:,1]\n",
        "\n",
        "ds1_test_X = ds1_test[:,0]\n",
        "ds1_test_Y = ds1_test[:,1]\n",
        "\n",
        "ds1_valid_X = ds1_valid[:,0]\n",
        "ds1_valid_Y = ds1_valid[:,1]"
      ],
      "execution_count": 25,
      "outputs": []
    },
    {
      "cell_type": "markdown",
      "metadata": {
        "id": "WLSlPRCoFF--",
        "colab_type": "text"
      },
      "source": [
        "Plotting dataset"
      ]
    },
    {
      "cell_type": "code",
      "metadata": {
        "id": "BCHbd7jJFwrA",
        "colab_type": "code",
        "colab": {}
      },
      "source": [
        "def plotting_points(x , y, title):\n",
        "  plt.figure(figsize=(10, 5))\n",
        "  plt.scatter(x, y, s=15)\n",
        "  plt.title(title)\n",
        "  plt.xlabel('X')\n",
        "  plt.ylabel('Y')\n",
        "  plt.show()"
      ],
      "execution_count": 26,
      "outputs": []
    },
    {
      "cell_type": "code",
      "metadata": {
        "id": "-UfCXEHkFFgP",
        "colab_type": "code",
        "colab": {
          "base_uri": "https://localhost:8080/",
          "height": 1000
        },
        "outputId": "0a499213-5ea4-4a2c-942a-268a79c7950e"
      },
      "source": [
        "plotting_points(ds1_train_X, ds1_train_Y, \"Dataset 1 - Train\")\n",
        "plotting_points(ds1_test_X, ds1_test_Y, \"Dataset 1 - Test\")\n",
        "plotting_points(ds1_valid_X, ds1_valid_Y, \"Dataset 1 - Valid\")"
      ],
      "execution_count": 27,
      "outputs": [
        {
          "output_type": "display_data",
          "data": {
            "image/png": "[encoded data removed]",
            "text/plain": [
              "<Figure size 720x360 with 1 Axes>"
            ]
          },
          "metadata": {
            "tags": [],
            "needs_background": "light"
          }
        },
        {
          "output_type": "display_data",
          "data": {
            "image/png": "[encoded data removed]",
            "text/plain": [
              "<Figure size 720x360 with 1 Axes>"
            ]
          },
          "metadata": {
            "tags": [],
            "needs_background": "light"
          }
        },
        {
          "output_type": "display_data",
          "data": {
            "image/png": "[encoded data removed]",
            "text/plain": [
              "<Figure size 720x360 with 1 Axes>"
            ]
          },
          "metadata": {
            "tags": [],
            "needs_background": "light"
          }
        }
      ]
    },
    {
      "cell_type": "markdown",
      "metadata": {
        "id": "xVLuppsH4up_",
        "colab_type": "text"
      },
      "source": [
        "Functions to calculate:\n",
        "- Vandermonde Matrix\n",
        "- Mean square error (MSE)\n",
        "- Beta"
      ]
    },
    {
      "cell_type": "code",
      "metadata": {
        "id": "FrC3EcufMbA3",
        "colab_type": "code",
        "colab": {}
      },
      "source": [
        "def get_vandermonde_matrix(ds, degree):\n",
        "  return np.polynomial.polynomial.polyvander(ds, degree)\n",
        "\n",
        "def mean_square_error(Y_true, Y_pred):\n",
        "  return np.square(np.subtract(Y_true,Y_pred)).mean() \n",
        "\n",
        "def calc_beta(X, y):\n",
        "  '''solution for linear regression'''\n",
        "  b = np.linalg.inv(X.T.dot(X)).dot(X.T).dot(y)\n",
        "  #b = np.linalg.solve((X.T @ X),X.T @ y)\n",
        "  return b\n",
        "\n",
        "def calc_beta_reg(X, y, lamda = 1):\n",
        "  '''solution for ridge regression'''\n",
        "  m,n = X.shape\n",
        "  I = np.eye((n))\n",
        "  b = (np.linalg.inv(X.T.dot(X))+ lamda * I).dot(X.T).dot(y)#[:,0]\n",
        "  return b"
      ],
      "execution_count": 79,
      "outputs": []
    },
    {
      "cell_type": "code",
      "metadata": {
        "id": "aJBQ1noJ8QRK",
        "colab_type": "code",
        "colab": {}
      },
      "source": [
        "def trained_beta(x, y):\n",
        "  # Vandermonde matrix\n",
        "  X = get_vandermonde_matrix(x, 20)\n",
        "\n",
        "  beta = calc_beta(X, y)\n",
        "  beta = np.asmatrix(beta).T\n",
        "  return beta\n",
        "\n",
        "def trained_beta_reg(x, y, lamda):\n",
        "  # Vandermonde matrix\n",
        "  X = get_vandermonde_matrix(x, 20)\n",
        "\n",
        "  beta = calc_beta_reg(X, y, lamda)\n",
        "  beta = np.asmatrix(beta).T\n",
        "  return beta\n",
        "\n",
        "def get_y_pred(x, beta):\n",
        "  X = get_vandermonde_matrix(x, 20)\n",
        "  return (X*beta).A1"
      ],
      "execution_count": 64,
      "outputs": []
    },
    {
      "cell_type": "code",
      "metadata": {
        "id": "MV4NZORGFynf",
        "colab_type": "code",
        "colab": {
          "base_uri": "https://localhost:8080/",
          "height": 34
        },
        "outputId": "e753e55c-3c72-497c-c1e0-5605fd0e6000"
      },
      "source": [
        "x = ds1_train[:,0]\n",
        "y = ds1_train[:,1]\n",
        "\n",
        "beta = trained_beta(x,y)\n",
        "# Predict y\n",
        "y_pred = get_y_pred(x,beta)\n",
        "\n",
        "MSE_train = mean_square_error(y, y_pred)\n",
        "print(\"Mean squared error on the training set:\", MSE_train)\n"
      ],
      "execution_count": 30,
      "outputs": [
        {
          "output_type": "stream",
          "text": [
            "Mean squared error on the training set: 6.4747564103155035\n"
          ],
          "name": "stdout"
        }
      ]
    },
    {
      "cell_type": "code",
      "metadata": {
        "id": "DdqaeHxqANy1",
        "colab_type": "code",
        "colab": {
          "base_uri": "https://localhost:8080/",
          "height": 34
        },
        "outputId": "b5167464-7818-45c8-9221-797d9e04ed8b"
      },
      "source": [
        "x = ds1_test[:,0]\n",
        "y = ds1_test[:,1]\n",
        "\n",
        "# Predict y\n",
        "y_pred = get_y_pred(x,beta)\n",
        "\n",
        "MSE_test = mean_square_error(y, y_pred)\n",
        "print(\"Mean squared error on the test set:\", MSE_test)\n"
      ],
      "execution_count": 31,
      "outputs": [
        {
          "output_type": "stream",
          "text": [
            "Mean squared error on the test set: 51.1801271723127\n"
          ],
          "name": "stdout"
        }
      ]
    },
    {
      "cell_type": "code",
      "metadata": {
        "id": "jVdt4s_N83ee",
        "colab_type": "code",
        "colab": {
          "base_uri": "https://localhost:8080/",
          "height": 34
        },
        "outputId": "327f6983-0120-42d9-8724-94854d1d9464"
      },
      "source": [
        "x = ds1_valid[:,0]\n",
        "y = ds1_valid[:,1]\n",
        "\n",
        "beta = trained_beta(x,y)\n",
        "# Predict y\n",
        "y_pred = get_y_pred(x,beta)\n",
        "\n",
        "MSE_valid = mean_square_error(y, y_pred)\n",
        "print(\"Mean squared error on the training set:\", MSE_valid)"
      ],
      "execution_count": 32,
      "outputs": [
        {
          "output_type": "stream",
          "text": [
            "Mean squared error on the training set: 1246.1230525158671\n"
          ],
          "name": "stdout"
        }
      ]
    },
    {
      "cell_type": "code",
      "metadata": {
        "id": "I6CUxeQ1nEd0",
        "colab_type": "code",
        "colab": {
          "base_uri": "https://localhost:8080/",
          "height": 170
        },
        "outputId": "86b5b483-423f-4fc1-bfa2-132e2f5d0ed7"
      },
      "source": [
        "def get_polynomial_function(beta):\n",
        "  return np.poly1d(np.squeeze(np.asarray(beta)))\n",
        "\n",
        "poly_f = get_polynomial_function(beta)\n",
        "print(\"Polynomial function: \")\n",
        "print(poly_f)"
      ],
      "execution_count": 46,
      "outputs": [
        {
          "output_type": "stream",
          "text": [
            "Polynomial function: \n",
            "       20         19        18        17             16             15\n",
            "16.81 x  + 141.3 x  + 1514 x  - 8936 x  - 9.378e+04 x  + 3.131e+05 x \n",
            "              14             13             12             11\n",
            " + 1.829e+06 x  - 6.135e+06 x  - 1.508e+07 x  + 6.284e+07 x \n",
            "              10             9             8             7\n",
            " + 4.292e+07 x  - 3.393e+08 x + 1.094e+08 x + 9.121e+08 x\n",
            "              6             5             4             3             2\n",
            " - 9.465e+08 x - 9.099e+08 x + 1.927e+09 x - 4.225e+08 x - 1.104e+09 x + 8.987e+08 x - 2.125e+08\n"
          ],
          "name": "stdout"
        }
      ]
    },
    {
      "cell_type": "code",
      "metadata": {
        "id": "VyWf35Z8oiUw",
        "colab_type": "code",
        "colab": {
          "base_uri": "https://localhost:8080/",
          "height": 593
        },
        "outputId": "29aeda62-adf6-46e0-d51a-57044a736453"
      },
      "source": [
        "\n",
        "def plot_regression_line(x, y, b): \n",
        "    plt.figure(figsize=(10, 5))\n",
        "    # plotting the actual points as scatter plot \n",
        "    plt.scatter(x, y, color = \"m\", \n",
        "            marker = \"o\", s = 15) \n",
        "\n",
        "    x_line = np.linspace(x.min(), x.max(), 50)\n",
        "    poly_func = get_polynomial_function(b)\n",
        "    regression_line = poly_func(x_line)\n",
        "    # Plotting the regression line \n",
        "    plt.plot(x_line, regression_line, color = \"g\") \n",
        "    # Putting labels \n",
        "    plt.xlabel('x') \n",
        "    plt.ylabel('y')     \n",
        "\n",
        "plt.scatter(x, y, color = \"m\", \n",
        "            marker = \"o\", s = 15) \n",
        "plot_regression_line(x, y, beta)\n",
        "plt.show() \n",
        "#print(x)\n"
      ],
      "execution_count": 60,
      "outputs": [
        {
          "output_type": "display_data",
          "data": {
            "image/png": "[encoded data removed]",
            "text/plain": [
              "<Figure size 432x288 with 1 Axes>"
            ]
          },
          "metadata": {
            "tags": [],
            "needs_background": "light"
          }
        },
        {
          "output_type": "display_data",
          "data": {
            "image/png": "[encoded data removed]",
            "text/plain": [
              "<Figure size 720x360 with 1 Axes>"
            ]
          },
          "metadata": {
            "tags": [],
            "needs_background": "light"
          }
        }
      ]
    },
    {
      "cell_type": "markdown",
      "metadata": {
        "id": "i7Rx4IufMPy-",
        "colab_type": "text"
      },
      "source": [
        "## Regularization L2"
      ]
    },
    {
      "cell_type": "markdown",
      "metadata": {
        "id": "NTpEsVy-QLus",
        "colab_type": "text"
      },
      "source": [
        "- Train"
      ]
    },
    {
      "cell_type": "code",
      "metadata": {
        "id": "1_VQyp2WMTbk",
        "colab_type": "code",
        "colab": {
          "base_uri": "https://localhost:8080/",
          "height": 34
        },
        "outputId": "2260e250-27ca-4db0-f6b2-769cd4699e8c"
      },
      "source": [
        "x = ds1_train[:,0]\n",
        "y = ds1_train[:,1]\n",
        "\n",
        "beta = trained_beta_reg(x,y, 0.5)\n",
        "# Predict y\n",
        "y_pred = get_y_pred(x,beta)\n",
        "\n",
        "MSE_train = mean_square_error(y, y_pred)\n",
        "print(\"Mean squared error on the training set:\", MSE_train)\n"
      ],
      "execution_count": 80,
      "outputs": [
        {
          "output_type": "stream",
          "text": [
            "Mean squared error on the training set: 14098.139227537957\n"
          ],
          "name": "stdout"
        }
      ]
    },
    {
      "cell_type": "markdown",
      "metadata": {
        "id": "-YRjCZs_QUhc",
        "colab_type": "text"
      },
      "source": [
        "- Valid"
      ]
    },
    {
      "cell_type": "code",
      "metadata": {
        "id": "0Py7EyzeQT81",
        "colab_type": "code",
        "colab": {
          "base_uri": "https://localhost:8080/",
          "height": 34
        },
        "outputId": "2f75e375-1bc3-4a2d-a6b5-516e77bf9936"
      },
      "source": [
        "x = ds1_valid[:,0]\n",
        "y = ds1_valid[:,1]\n",
        "\n",
        "beta = trained_beta_reg(x,y, 0.5)\n",
        "# Predict y\n",
        "y_pred = get_y_pred(x,beta)\n",
        "\n",
        "MSE_train = mean_square_error(y, y_pred)\n",
        "print(\"Mean squared error on the valid set:\", MSE_train)\n"
      ],
      "execution_count": 81,
      "outputs": [
        {
          "output_type": "stream",
          "text": [
            "Mean squared error on the valid set: 64515.32271304754\n"
          ],
          "name": "stdout"
        }
      ]
    },
    {
      "cell_type": "markdown",
      "metadata": {
        "id": "mDEA2V8QKW4R",
        "colab_type": "text"
      },
      "source": [
        "**2 Descente de gradient pour la régression**\n",
        "\n"
      ]
    },
    {
      "cell_type": "code",
      "metadata": {
        "id": "lD5FcsnHKePx",
        "colab_type": "code",
        "colab": {}
      },
      "source": [
        "#import CSV file and chose only the two first columns\n",
        "ds2_train = np.loadtxt(\"Dataset_2_train.csv\", delimiter=\",\", usecols=range(2))\n",
        "ds2_test = np.loadtxt(\"Dataset_2_test.csv\", delimiter=\",\", usecols=range(2))\n",
        "ds2_valid = np.loadtxt(\"Dataset_2_valid.csv\", delimiter=\",\", usecols=range(2))"
      ],
      "execution_count": null,
      "outputs": []
    },
    {
      "cell_type": "markdown",
      "metadata": {
        "id": "RONEYUyRKjIu",
        "colab_type": "text"
      },
      "source": [
        "**3 Dataset issu de la \"vie réelle\"**"
      ]
    },
    {
      "cell_type": "code",
      "metadata": {
        "id": "YRgSadGAKljS",
        "colab_type": "code",
        "colab": {}
      },
      "source": [
        "#import CSV file and chose only the two first columns\n",
        "ds3 = np.genfromtxt(\"communities.data\", delimiter=\",\", dtype=\"str\")"
      ],
      "execution_count": null,
      "outputs": []
    },
    {
      "cell_type": "code",
      "metadata": {
        "id": "6J1Ol3y9QFUD",
        "colab_type": "code",
        "colab": {
          "base_uri": "https://localhost:8080/",
          "height": 204
        },
        "outputId": "48a6b5d8-1c53-44af-a17c-000e120064d7"
      },
      "source": [
        "print(ds3[1])"
      ],
      "execution_count": null,
      "outputs": [
        {
          "output_type": "stream",
          "text": [
            "['53' '?' '?' 'Tukwilacity' '1' '0' '0.16' '0.12' '0.74' '0.45' '0.07'\n",
            " '0.26' '0.59' '0.35' '0.27' '0.02' '1' '0.31' '0.72' '0.11' '0.45' '0.25'\n",
            " '0.29' '0.39' '0.29' '0.37' '0.38' '0.33' '0.16' '0.3' '0.22' '0.35'\n",
            " '0.01' '0.24' '0.14' '0.24' '0.3' '0.27' '0.73' '0.57' '0.15' '0.42'\n",
            " '0.36' '1' '0.63' '0.91' '1' '0.29' '0.43' '0.47' '0.6' '0.39' '0.46'\n",
            " '0.53' '0' '0.24' '0.01' '0.52' '0.62' '0.64' '0.63' '0.25' '0.27' '0.25'\n",
            " '0.23' '0.84' '0.1' '0.16' '0.1' '0.17' '0.29' '0.17' '0.26' '0.2' '0.82'\n",
            " '0' '0.02' '0.79' '0.24' '0.02' '0.25' '0.65' '0.16' '0' '0.21' '0.2'\n",
            " '0.21' '0.42' '0.38' '0.4' '0.37' '0.29' '0.32' '0.18' '0' '0' '0.21'\n",
            " '0.5' '0.34' '0.6' '0.52' '?' '?' '?' '?' '?' '?' '?' '?' '?' '?' '?' '?'\n",
            " '?' '?' '?' '?' '?' '0.02' '0.12' '0.45' '?' '?' '?' '?' '0' '?' '0.67']\n"
          ],
          "name": "stdout"
        }
      ]
    }
  ]
}