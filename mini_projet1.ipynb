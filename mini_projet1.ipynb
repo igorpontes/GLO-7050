{
  "nbformat": 4,
  "nbformat_minor": 0,
  "metadata": {
    "colab": {
      "name": "mini-projet1.ipynb",
      "provenance": [],
      "collapsed_sections": [],
      "authorship_tag": "ABX9TyNsmd1t/4YzbtF4yoxb4Rkz",
      "include_colab_link": true
    },
    "kernelspec": {
      "name": "python3",
      "display_name": "Python 3"
    }
  },
  "cells": [
    {
      "cell_type": "markdown",
      "metadata": {
        "id": "view-in-github",
        "colab_type": "text"
      },
      "source": [
        "<a href=\"https://colab.research.google.com/github/igorpontes/GLO-7050/blob/develop/mini_projet1.ipynb\" target=\"_parent\"><img src=\"https://colab.research.google.com/assets/colab-badge.svg\" alt=\"Open In Colab\"/></a>"
      ]
    },
    {
      "cell_type": "markdown",
      "metadata": {
        "id": "BKGafEK2GBSy",
        "colab_type": "text"
      },
      "source": [
        "# **Mini-projet 1**"
      ]
    },
    {
      "cell_type": "markdown",
      "metadata": {
        "id": "7x4BrT8PHT_n",
        "colab_type": "text"
      },
      "source": [
        "Imports"
      ]
    },
    {
      "cell_type": "code",
      "metadata": {
        "id": "Qsi-iCs0F5Xx",
        "colab_type": "code",
        "colab": {}
      },
      "source": [
        "import numpy as np"
      ],
      "execution_count": 0,
      "outputs": []
    },
    {
      "cell_type": "markdown",
      "metadata": {
        "id": "Wk8G-c7rINR_",
        "colab_type": "text"
      },
      "source": [
        "**1 Sélection de modèle**"
      ]
    },
    {
      "cell_type": "code",
      "metadata": {
        "id": "Fq1H4Y-0LmVf",
        "colab_type": "code",
        "colab": {}
      },
      "source": [
        "#import CSV file and chose only the two first columns\n",
        "ds1_train = np.loadtxt(\"Dataset_1_train.csv\", delimiter=\",\", usecols=range(2))\n",
        "ds1_test = np.loadtxt(\"Dataset_1_test.csv\", delimiter=\",\", usecols=range(2))\n",
        "ds1_valid = np.loadtxt(\"Dataset_1_valid.csv\", delimiter=\",\", usecols=range(2))\n",
        "#print(ds1_train)\n",
        "#print(\" ------------------------------------\")\n",
        "#my_data = np.genfromtxt('Dataset_1_train.csv', delimiter=',', dtype= float)[:,:-1]\n",
        "#print(my_data)"
      ],
      "execution_count": 0,
      "outputs": []
    },
    {
      "cell_type": "code",
      "metadata": {
        "id": "mc0OOro-Ohti",
        "colab_type": "code",
        "colab": {
          "base_uri": "https://localhost:8080/",
          "height": 34
        },
        "outputId": "e11aff23-a304-4d00-9a76-9c2189154a73"
      },
      "source": [
        "ds1_train[0,0]"
      ],
      "execution_count": 14,
      "outputs": [
        {
          "output_type": "execute_result",
          "data": {
            "text/plain": [
              "0.516219704459"
            ]
          },
          "metadata": {
            "tags": []
          },
          "execution_count": 14
        }
      ]
    },
    {
      "cell_type": "markdown",
      "metadata": {
        "id": "mDEA2V8QKW4R",
        "colab_type": "text"
      },
      "source": [
        "**2 Descente de gradient pour la régression**\n",
        "\n"
      ]
    },
    {
      "cell_type": "code",
      "metadata": {
        "id": "lD5FcsnHKePx",
        "colab_type": "code",
        "colab": {}
      },
      "source": [
        "#import CSV file and chose only the two first columns\n",
        "ds2_train = np.loadtxt(\"Dataset_2_train.csv\", delimiter=\",\", usecols=range(2))\n",
        "ds2_test = np.loadtxt(\"Dataset_2_test.csv\", delimiter=\",\", usecols=range(2))\n",
        "ds2_valid = np.loadtxt(\"Dataset_2_valid.csv\", delimiter=\",\", usecols=range(2))"
      ],
      "execution_count": 0,
      "outputs": []
    },
    {
      "cell_type": "markdown",
      "metadata": {
        "id": "RONEYUyRKjIu",
        "colab_type": "text"
      },
      "source": [
        "**3 Dataset issu de la \"vie réelle\"**"
      ]
    },
    {
      "cell_type": "code",
      "metadata": {
        "id": "YRgSadGAKljS",
        "colab_type": "code",
        "colab": {}
      },
      "source": [
        "#import CSV file and chose only the two first columns\n",
        "ds3 = np.genfromtxt(\"communities.data\", delimiter=\",\", dtype=\"str\")"
      ],
      "execution_count": 0,
      "outputs": []
    },
    {
      "cell_type": "code",
      "metadata": {
        "id": "6J1Ol3y9QFUD",
        "colab_type": "code",
        "colab": {
          "base_uri": "https://localhost:8080/",
          "height": 204
        },
        "outputId": "48a6b5d8-1c53-44af-a17c-000e120064d7"
      },
      "source": [
        "print(ds3[1])"
      ],
      "execution_count": 34,
      "outputs": [
        {
          "output_type": "stream",
          "text": [
            "['53' '?' '?' 'Tukwilacity' '1' '0' '0.16' '0.12' '0.74' '0.45' '0.07'\n",
            " '0.26' '0.59' '0.35' '0.27' '0.02' '1' '0.31' '0.72' '0.11' '0.45' '0.25'\n",
            " '0.29' '0.39' '0.29' '0.37' '0.38' '0.33' '0.16' '0.3' '0.22' '0.35'\n",
            " '0.01' '0.24' '0.14' '0.24' '0.3' '0.27' '0.73' '0.57' '0.15' '0.42'\n",
            " '0.36' '1' '0.63' '0.91' '1' '0.29' '0.43' '0.47' '0.6' '0.39' '0.46'\n",
            " '0.53' '0' '0.24' '0.01' '0.52' '0.62' '0.64' '0.63' '0.25' '0.27' '0.25'\n",
            " '0.23' '0.84' '0.1' '0.16' '0.1' '0.17' '0.29' '0.17' '0.26' '0.2' '0.82'\n",
            " '0' '0.02' '0.79' '0.24' '0.02' '0.25' '0.65' '0.16' '0' '0.21' '0.2'\n",
            " '0.21' '0.42' '0.38' '0.4' '0.37' '0.29' '0.32' '0.18' '0' '0' '0.21'\n",
            " '0.5' '0.34' '0.6' '0.52' '?' '?' '?' '?' '?' '?' '?' '?' '?' '?' '?' '?'\n",
            " '?' '?' '?' '?' '?' '0.02' '0.12' '0.45' '?' '?' '?' '?' '0' '?' '0.67']\n"
          ],
          "name": "stdout"
        }
      ]
    }
  ]
}