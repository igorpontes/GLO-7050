{
  "nbformat": 4,
  "nbformat_minor": 0,
  "metadata": {
    "colab": {
      "name": "mini-projet1.ipynb",
      "provenance": [],
      "authorship_tag": "ABX9TyNHgCgFAzyJ6xMsuc6DabRe",
      "include_colab_link": true
    },
    "kernelspec": {
      "name": "python3",
      "display_name": "Python 3"
    }
  },
  "cells": [
    {
      "cell_type": "markdown",
      "metadata": {
        "id": "view-in-github",
        "colab_type": "text"
      },
      "source": [
        "<a href=\"https://colab.research.google.com/github/igorpontes/GLO-7050/blob/develop/mini_projet1.ipynb\" target=\"_parent\"><img src=\"https://colab.research.google.com/assets/colab-badge.svg\" alt=\"Open In Colab\"/></a>"
      ]
    },
    {
      "cell_type": "markdown",
      "metadata": {
        "id": "BKGafEK2GBSy",
        "colab_type": "text"
      },
      "source": [
        "Mini-projet 1"
      ]
    },
    {
      "cell_type": "code",
      "metadata": {
        "id": "Qsi-iCs0F5Xx",
        "colab_type": "code",
        "colab": {}
      },
      "source": [
        "## Mini projet 1"
      ],
      "execution_count": 0,
      "outputs": []
    }
  ]
}