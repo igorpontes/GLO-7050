{
  "nbformat": 4,
  "nbformat_minor": 0,
  "metadata": {
    "colab": {
      "name": "mini-projet1.ipynb",
      "provenance": [],
      "collapsed_sections": [],
      "toc_visible": true,
      "include_colab_link": true
    },
    "kernelspec": {
      "name": "python3",
      "display_name": "Python 3"
    }
  },
  "cells": [
    {
      "cell_type": "markdown",
      "metadata": {
        "id": "view-in-github",
        "colab_type": "text"
      },
      "source": [
        "<a href=\"https://colab.research.google.com/github/igorpontes/GLO-7050/blob/develop/mini_projet1.ipynb\" target=\"_parent\"><img src=\"https://colab.research.google.com/assets/colab-badge.svg\" alt=\"Open In Colab\"/></a>"
      ]
    },
    {
      "cell_type": "markdown",
      "metadata": {
        "id": "BKGafEK2GBSy",
        "colab_type": "text"
      },
      "source": [
        "# **Mini-projet 1**"
      ]
    },
    {
      "cell_type": "markdown",
      "metadata": {
        "id": "7x4BrT8PHT_n",
        "colab_type": "text"
      },
      "source": [
        "Imports"
      ]
    },
    {
      "cell_type": "code",
      "metadata": {
        "id": "Qsi-iCs0F5Xx",
        "colab_type": "code",
        "colab": {}
      },
      "source": [
        "import numpy as np\n",
        "import matplotlib.pyplot as plt"
      ],
      "execution_count": 10,
      "outputs": []
    },
    {
      "cell_type": "markdown",
      "metadata": {
        "id": "Wk8G-c7rINR_",
        "colab_type": "text"
      },
      "source": [
        "**1 Sélection de modèle**"
      ]
    },
    {
      "cell_type": "code",
      "metadata": {
        "id": "Fq1H4Y-0LmVf",
        "colab_type": "code",
        "colab": {}
      },
      "source": [
        "#import CSV file and chose only the two first columns\n",
        "ds1_train = np.loadtxt(\"Dataset_1_train.csv\", delimiter=\",\", usecols=range(2))\n",
        "ds1_test = np.loadtxt(\"Dataset_1_test.csv\", delimiter=\",\", usecols=range(2))\n",
        "ds1_valid = np.loadtxt(\"Dataset_1_valid.csv\", delimiter=\",\", usecols=range(2))\n",
        "#print(ds1_train)\n",
        "#print(\" ------------------------------------\")\n",
        "#my_data = np.genfromtxt('Dataset_1_train.csv', delimiter=',', dtype= float)[:,:-1]\n",
        "#print(my_data)"
      ],
      "execution_count": 11,
      "outputs": []
    },
    {
      "cell_type": "code",
      "metadata": {
        "id": "mc0OOro-Ohti",
        "colab_type": "code",
        "colab": {
          "base_uri": "https://localhost:8080/",
          "height": 34
        },
        "outputId": "e11aff23-a304-4d00-9a76-9c2189154a73"
      },
      "source": [
        "ds1_train[0,0]"
      ],
      "execution_count": null,
      "outputs": [
        {
          "output_type": "execute_result",
          "data": {
            "text/plain": [
              "0.516219704459"
            ]
          },
          "metadata": {
            "tags": []
          },
          "execution_count": 14
        }
      ]
    },
    {
      "cell_type": "markdown",
      "metadata": {
        "id": "okx3jlRWE-GW",
        "colab_type": "text"
      },
      "source": [
        "Separate points"
      ]
    },
    {
      "cell_type": "code",
      "metadata": {
        "id": "Kn-E-wt9Dzs_",
        "colab_type": "code",
        "colab": {}
      },
      "source": [
        "ds1_train_X = ds1_train[:,0]\n",
        "ds1_train_Y = ds1_train[:,0]\n",
        "\n",
        "ds1_test_X = ds1_test[:,0]\n",
        "ds1_test_Y = ds1_test[:,0]\n",
        "\n",
        "ds1_valid_X = ds1_valid[:,0]\n",
        "ds1_valid_Y = ds1_valid[:,0]"
      ],
      "execution_count": 12,
      "outputs": []
    },
    {
      "cell_type": "markdown",
      "metadata": {
        "id": "WLSlPRCoFF--",
        "colab_type": "text"
      },
      "source": [
        "Plotting dataset"
      ]
    },
    {
      "cell_type": "code",
      "metadata": {
        "id": "BCHbd7jJFwrA",
        "colab_type": "code",
        "colab": {}
      },
      "source": [
        "def plotting_points(x , y, title):\n",
        "  plt.figure(figsize=(10, 5))\n",
        "  plt.scatter(x, y, s=15)\n",
        "  plt.title(title)\n",
        "  plt.xlabel('Predictor')\n",
        "  plt.ylabel('Target')\n",
        "  plt.show()"
      ],
      "execution_count": 15,
      "outputs": []
    },
    {
      "cell_type": "code",
      "metadata": {
        "id": "-UfCXEHkFFgP",
        "colab_type": "code",
        "colab": {
          "base_uri": "https://localhost:8080/",
          "height": 1000
        },
        "outputId": "415d7213-6161-4460-91eb-9fe873bbb1ef"
      },
      "source": [
        "plotting_points(ds1_train_X, ds1_train_Y, \"Dataset 1 - Train\")\n",
        "plotting_points(ds1_test_X, ds1_test_Y, \"Dataset 1 - Test\")\n",
        "plotting_points(ds1_valid_X, ds1_valid_Y, \"Dataset 1 - Valid\")"
      ],
      "execution_count": 18,
      "outputs": [
        {
          "output_type": "display_data",
          "data": {
            "image/png": "[encoded data removed]",
            "text/plain": [
              "<Figure size 720x360 with 1 Axes>"
            ]
          },
          "metadata": {
            "tags": [],
            "needs_background": "light"
          }
        },
        {
          "output_type": "display_data",
          "data": {
            "image/png": "[encoded data removed]",
            "text/plain": [
              "<Figure size 720x360 with 1 Axes>"
            ]
          },
          "metadata": {
            "tags": [],
            "needs_background": "light"
          }
        },
        {
          "output_type": "display_data",
          "data": {
            "image/png": "[encoded data removed]",
            "text/plain": [
              "<Figure size 720x360 with 1 Axes>"
            ]
          },
          "metadata": {
            "tags": [],
            "needs_background": "light"
          }
        }
      ]
    },
    {
      "cell_type": "code",
      "metadata": {
        "id": "OXMYClO8c-82",
        "colab_type": "code",
        "colab": {
          "base_uri": "https://localhost:8080/",
          "height": 198
        },
        "outputId": "e440dd74-d279-4989-a7b8-483be6768562"
      },
      "source": [
        "# Train Algorithm (Polynomial)\n",
        "degree = 20\n",
        "poly_fit = np.poly1d(np.polyfit(X,Y, degree))"
      ],
      "execution_count": 19,
      "outputs": [
        {
          "output_type": "error",
          "ename": "NameError",
          "evalue": "ignored",
          "traceback": [
            "\u001b[0;31m---------------------------------------------------------------------------\u001b[0m",
            "\u001b[0;31mNameError\u001b[0m                                 Traceback (most recent call last)",
            "\u001b[0;32m<ipython-input-19-78edceb1cf93>\u001b[0m in \u001b[0;36m<module>\u001b[0;34m()\u001b[0m\n\u001b[1;32m      1\u001b[0m \u001b[0;31m# Train Algorithm (Polynomial)\u001b[0m\u001b[0;34m\u001b[0m\u001b[0;34m\u001b[0m\u001b[0;34m\u001b[0m\u001b[0m\n\u001b[1;32m      2\u001b[0m \u001b[0mdegree\u001b[0m \u001b[0;34m=\u001b[0m \u001b[0;36m20\u001b[0m\u001b[0;34m\u001b[0m\u001b[0;34m\u001b[0m\u001b[0m\n\u001b[0;32m----> 3\u001b[0;31m \u001b[0mpoly_fit\u001b[0m \u001b[0;34m=\u001b[0m \u001b[0mnp\u001b[0m\u001b[0;34m.\u001b[0m\u001b[0mpoly1d\u001b[0m\u001b[0;34m(\u001b[0m\u001b[0mnp\u001b[0m\u001b[0;34m.\u001b[0m\u001b[0mpolyfit\u001b[0m\u001b[0;34m(\u001b[0m\u001b[0mX\u001b[0m\u001b[0;34m,\u001b[0m\u001b[0mY\u001b[0m\u001b[0;34m,\u001b[0m \u001b[0mdegree\u001b[0m\u001b[0;34m)\u001b[0m\u001b[0;34m)\u001b[0m\u001b[0;34m\u001b[0m\u001b[0;34m\u001b[0m\u001b[0m\n\u001b[0m",
            "\u001b[0;31mNameError\u001b[0m: name 'X' is not defined"
          ]
        }
      ]
    },
    {
      "cell_type": "code",
      "metadata": {
        "id": "hJ7lc36Adj-T",
        "colab_type": "code",
        "colab": {
          "base_uri": "https://localhost:8080/",
          "height": 312
        },
        "outputId": "1a134f7b-2b21-47bb-8250-68df3b574f33"
      },
      "source": [
        "import numpy as np\n",
        "import matplotlib.pyplot as plt\n",
        "\n",
        "X = ds1_train_X\n",
        "Y = ds1_train_Y\n",
        "\n",
        "# Train Algorithm (Polynomial)\n",
        "degree = 20\n",
        "poly_fit = np.poly1d(np.polyfit(X,Y, degree))\n",
        "\n",
        "# Plot data\n",
        "xx = np.linspace(0, 26, 100)\n",
        "plt.plot(xx, poly_fit(xx), c='r',linestyle='-')\n",
        "plt.title('Polynomial')\n",
        "plt.xlabel('X')\n",
        "plt.ylabel('Y')\n",
        "plt.axis([0, 1, 0, 1])\n",
        "plt.grid(True)\n",
        "plt.scatter(X, Y)\n",
        "plt.show()\n",
        "\n",
        "# Predict price\n",
        "print( poly_fit(12) )"
      ],
      "execution_count": 30,
      "outputs": [
        {
          "output_type": "display_data",
          "data": {
            "image/png": "[encoded data removed]",
            "text/plain": [
              "<Figure size 432x288 with 1 Axes>"
            ]
          },
          "metadata": {
            "tags": [],
            "needs_background": "light"
          }
        },
        {
          "output_type": "stream",
          "text": [
            "-82460454638.64316\n"
          ],
          "name": "stdout"
        }
      ]
    },
    {
      "cell_type": "markdown",
      "metadata": {
        "id": "mDEA2V8QKW4R",
        "colab_type": "text"
      },
      "source": [
        "**2 Descente de gradient pour la régression**\n",
        "\n"
      ]
    },
    {
      "cell_type": "code",
      "metadata": {
        "id": "lD5FcsnHKePx",
        "colab_type": "code",
        "colab": {}
      },
      "source": [
        "#import CSV file and chose only the two first columns\n",
        "ds2_train = np.loadtxt(\"Dataset_2_train.csv\", delimiter=\",\", usecols=range(2))\n",
        "ds2_test = np.loadtxt(\"Dataset_2_test.csv\", delimiter=\",\", usecols=range(2))\n",
        "ds2_valid = np.loadtxt(\"Dataset_2_valid.csv\", delimiter=\",\", usecols=range(2))"
      ],
      "execution_count": null,
      "outputs": []
    },
    {
      "cell_type": "markdown",
      "metadata": {
        "id": "RONEYUyRKjIu",
        "colab_type": "text"
      },
      "source": [
        "**3 Dataset issu de la \"vie réelle\"**"
      ]
    },
    {
      "cell_type": "code",
      "metadata": {
        "id": "YRgSadGAKljS",
        "colab_type": "code",
        "colab": {}
      },
      "source": [
        "#import CSV file and chose only the two first columns\n",
        "ds3 = np.genfromtxt(\"communities.data\", delimiter=\",\", dtype=\"str\")"
      ],
      "execution_count": null,
      "outputs": []
    },
    {
      "cell_type": "code",
      "metadata": {
        "id": "6J1Ol3y9QFUD",
        "colab_type": "code",
        "colab": {
          "base_uri": "https://localhost:8080/",
          "height": 204
        },
        "outputId": "48a6b5d8-1c53-44af-a17c-000e120064d7"
      },
      "source": [
        "print(ds3[1])"
      ],
      "execution_count": null,
      "outputs": [
        {
          "output_type": "stream",
          "text": [
            "['53' '?' '?' 'Tukwilacity' '1' '0' '0.16' '0.12' '0.74' '0.45' '0.07'\n",
            " '0.26' '0.59' '0.35' '0.27' '0.02' '1' '0.31' '0.72' '0.11' '0.45' '0.25'\n",
            " '0.29' '0.39' '0.29' '0.37' '0.38' '0.33' '0.16' '0.3' '0.22' '0.35'\n",
            " '0.01' '0.24' '0.14' '0.24' '0.3' '0.27' '0.73' '0.57' '0.15' '0.42'\n",
            " '0.36' '1' '0.63' '0.91' '1' '0.29' '0.43' '0.47' '0.6' '0.39' '0.46'\n",
            " '0.53' '0' '0.24' '0.01' '0.52' '0.62' '0.64' '0.63' '0.25' '0.27' '0.25'\n",
            " '0.23' '0.84' '0.1' '0.16' '0.1' '0.17' '0.29' '0.17' '0.26' '0.2' '0.82'\n",
            " '0' '0.02' '0.79' '0.24' '0.02' '0.25' '0.65' '0.16' '0' '0.21' '0.2'\n",
            " '0.21' '0.42' '0.38' '0.4' '0.37' '0.29' '0.32' '0.18' '0' '0' '0.21'\n",
            " '0.5' '0.34' '0.6' '0.52' '?' '?' '?' '?' '?' '?' '?' '?' '?' '?' '?' '?'\n",
            " '?' '?' '?' '?' '?' '0.02' '0.12' '0.45' '?' '?' '?' '?' '0' '?' '0.67']\n"
          ],
          "name": "stdout"
        }
      ]
    }
  ]
}